{
 "cells": [
  {
   "cell_type": "markdown",
   "id": "d89d4dc6",
   "metadata": {
    "slideshow": {
     "slide_type": "slide"
    }
   },
   "source": [
    "# (Distributed) Data Parallel\n",
    "В этой части курса мы познакомимся с Data Parallel режимом обучения. Посмотрим, как его можно запускать и какие есть проблемы в нем."
   ]
  },
  {
   "cell_type": "markdown",
   "id": "8ab76b83",
   "metadata": {
    "slideshow": {
     "slide_type": "slide"
    }
   },
   "source": [
    "## One model Multi GPU"
   ]
  },
  {
   "cell_type": "code",
   "execution_count": 12,
   "id": "8008f5af",
   "metadata": {
    "slideshow": {
     "slide_type": "subslide"
    }
   },
   "outputs": [
    {
     "name": "stdout",
     "output_type": "stream",
     "text": [
      "Thu Nov 17 15:08:51 2022       \r\n",
      "+-----------------------------------------------------------------------------+\r\n",
      "| NVIDIA-SMI 515.43.04    Driver Version: 515.43.04    CUDA Version: 11.7     |\r\n",
      "|-------------------------------+----------------------+----------------------+\r\n",
      "| GPU  Name        Persistence-M| Bus-Id        Disp.A | Volatile Uncorr. ECC |\r\n",
      "| Fan  Temp  Perf  Pwr:Usage/Cap|         Memory-Usage | GPU-Util  Compute M. |\r\n",
      "|                               |                      |               MIG M. |\r\n",
      "|===============================+======================+======================|\r\n",
      "|   0  NVIDIA GeForce ...  On   | 00000000:8D:00.0 Off |                  N/A |\r\n",
      "|  0%   55C    P8    47W / 300W |    848MiB / 24576MiB |      0%      Default |\r\n",
      "|                               |                      |                  N/A |\r\n",
      "+-------------------------------+----------------------+----------------------+\r\n",
      "|   1  NVIDIA GeForce ...  On   | 00000000:C7:00.0 Off |                  N/A |\r\n",
      "| 36%   33C    P8    32W / 300W |    848MiB / 24576MiB |      0%      Default |\r\n",
      "|                               |                      |                  N/A |\r\n",
      "+-------------------------------+----------------------+----------------------+\r\n",
      "                                                                               \r\n",
      "+-----------------------------------------------------------------------------+\r\n",
      "| Processes:                                                                  |\r\n",
      "|  GPU   GI   CI        PID   Type   Process name                  GPU Memory |\r\n",
      "|        ID   ID                                                   Usage      |\r\n",
      "|=============================================================================|\r\n",
      "+-----------------------------------------------------------------------------+\r\n"
     ]
    }
   ],
   "source": [
    "!nvidia-smi"
   ]
  },
  {
   "cell_type": "code",
   "execution_count": 13,
   "id": "96f2b2bb",
   "metadata": {},
   "outputs": [],
   "source": [
    "import torch"
   ]
  },
  {
   "cell_type": "code",
   "execution_count": 14,
   "id": "26acf1c8",
   "metadata": {},
   "outputs": [
    {
     "data": {
      "text/plain": [
       "tensor([[0.]], device='cuda:0')"
      ]
     },
     "execution_count": 14,
     "metadata": {},
     "output_type": "execute_result"
    }
   ],
   "source": [
    "torch.zeros((1, 1), device=\"cuda\")"
   ]
  },
  {
   "cell_type": "code",
   "execution_count": 19,
   "id": "d9e07e8f",
   "metadata": {},
   "outputs": [
    {
     "data": {
      "text/plain": [
       "tensor([[0.]], device='cuda:0')"
      ]
     },
     "execution_count": 19,
     "metadata": {},
     "output_type": "execute_result"
    }
   ],
   "source": [
    "torch.zeros((1, 1), device=\"cuda:0\")"
   ]
  },
  {
   "cell_type": "code",
   "execution_count": 20,
   "id": "835f804f",
   "metadata": {},
   "outputs": [
    {
     "data": {
      "text/plain": [
       "tensor([[0.]], device='cuda:1')"
      ]
     },
     "execution_count": 20,
     "metadata": {},
     "output_type": "execute_result"
    }
   ],
   "source": [
    "torch.zeros((1, 1), device=\"cuda:1\")"
   ]
  },
  {
   "cell_type": "code",
   "execution_count": 22,
   "id": "4117aa62",
   "metadata": {},
   "outputs": [
    {
     "data": {
      "text/plain": [
       "tensor([[2.]], device='cuda:0')"
      ]
     },
     "execution_count": 22,
     "metadata": {},
     "output_type": "execute_result"
    }
   ],
   "source": [
    "torch.ones((1, 1), device=\"cuda:0\") + torch.ones((1, 1), device=\"cuda:1\").to(\"cuda:0\")"
   ]
  },
  {
   "cell_type": "code",
   "execution_count": 29,
   "id": "29b09277",
   "metadata": {},
   "outputs": [
    {
     "data": {
      "text/plain": [
       "device(type='cuda', index=0)"
      ]
     },
     "execution_count": 29,
     "metadata": {},
     "output_type": "execute_result"
    }
   ],
   "source": [
    "torch.ones((1, 1), device=\"cuda:0\").device"
   ]
  },
  {
   "cell_type": "markdown",
   "id": "7598c085",
   "metadata": {
    "slideshow": {
     "slide_type": "slide"
    }
   },
   "source": [
    "## DataParallel\n",
    "\n",
    "Просто добавляем [DataParallel](https://pytorch.org/docs/stable/generated/torch.nn.DataParallel.html)"
   ]
  },
  {
   "cell_type": "code",
   "execution_count": null,
   "id": "f1f8a386",
   "metadata": {},
   "outputs": [],
   "source": [
    "torch.nn.parallel.DataParallel(model)"
   ]
  },
  {
   "cell_type": "markdown",
   "id": "1a8cc638",
   "metadata": {
    "slideshow": {
     "slide_type": "slide"
    }
   },
   "source": [
    "## (Distributed) DataParallel\n",
    "\n",
    "\n",
    "Несколько шагов: \n",
    "\n",
    "1) Инициализация процесса (torch.distributed.init)\n",
    "\n",
    "2) Инициализация модели (DistributedDataParallel)\n",
    "\n",
    "3) Подготовка данных (просто, но сложно)"
   ]
  },
  {
   "cell_type": "code",
   "execution_count": null,
   "id": "3f9af1bb",
   "metadata": {},
   "outputs": [],
   "source": [
    "torch.distributed.init_process_group(backend, rank=args.rank, world_size=2)"
   ]
  },
  {
   "cell_type": "code",
   "execution_count": null,
   "id": "85ebd207",
   "metadata": {},
   "outputs": [],
   "source": [
    "torch.nn.parallel.DistributedDataParallel(model)"
   ]
  },
  {
   "cell_type": "markdown",
   "id": "df67539a",
   "metadata": {
    "slideshow": {
     "slide_type": "slide"
    }
   },
   "source": [
    "## (Distributed) Data Sampler\n",
    "\n",
    "\n",
    "Посмотрим, что какие данные считывает модель в обычном режиме. И попробуем поменять Sampler на [DistributedSampler](https://pytorch.org/docs/stable/data.html#torch.utils.data.distributed.DistributedSampler)."
   ]
  },
  {
   "cell_type": "code",
   "execution_count": null,
   "id": "20dcdc26",
   "metadata": {},
   "outputs": [],
   "source": [
    "torch.utils.data.distributed.DistributedSampler()"
   ]
  },
  {
   "cell_type": "markdown",
   "id": "f531131c",
   "metadata": {
    "slideshow": {
     "slide_type": "slide"
    }
   },
   "source": [
    "## Distributed Synchronization\n",
    "\n",
    "Обсудим несколько примитивов распределённого обучения."
   ]
  },
  {
   "cell_type": "code",
   "execution_count": null,
   "id": "2e194681",
   "metadata": {},
   "outputs": [],
   "source": [
    "torch.distributed.get_rank()"
   ]
  },
  {
   "cell_type": "code",
   "execution_count": null,
   "id": "5f2a77c8",
   "metadata": {},
   "outputs": [],
   "source": [
    "torch.distributed.get_world_size()"
   ]
  },
  {
   "cell_type": "code",
   "execution_count": null,
   "id": "6915cc18",
   "metadata": {},
   "outputs": [],
   "source": [
    "torch.distributed.barrier()"
   ]
  },
  {
   "cell_type": "code",
   "execution_count": null,
   "id": "1811002e",
   "metadata": {},
   "outputs": [],
   "source": [
    "torch.distributed.send()\n",
    "torch.distributed.recv()"
   ]
  },
  {
   "cell_type": "code",
   "execution_count": null,
   "id": "c78aa0d6",
   "metadata": {},
   "outputs": [],
   "source": [
    "torch.distributed.broadcast()"
   ]
  },
  {
   "cell_type": "code",
   "execution_count": null,
   "id": "ad78972b",
   "metadata": {},
   "outputs": [],
   "source": [
    "torch.distributed.all_reduce()"
   ]
  },
  {
   "cell_type": "code",
   "execution_count": null,
   "id": "6ca25dae",
   "metadata": {},
   "outputs": [],
   "source": [
    "torch.distributed.gather()\n",
    "torch.distributed.scatter()"
   ]
  },
  {
   "cell_type": "markdown",
   "id": "8bb4544f",
   "metadata": {
    "slideshow": {
     "slide_type": "slide"
    }
   },
   "source": [
    "# Homework\n",
    "\n",
    "- Скоро на почту вам придет инструкция к подключению к серверу с несколькими видеокартами.\n",
    "- Подключитесь и проверьте, что всё у вас работает.\n",
    "- Установите [miniconda](https://conda.io/projects/conda/en/stable/user-guide/install/index.html)\n",
    "- Установите torch/torchvision/остальные библиотеки для вашего фреймворка\n",
    "- Добавьте в ваш фреймворк автоматическую работу с torch.distributed:\n",
    "    - Если нет видеокарты, то обучение происходит на cpu\n",
    "    - Если есть только одна видеокарта, то обучение происходит в обычном режиме\n",
    "    - Если есть > 1 видеокарты, то обучение происходит в distributed режиме"
   ]
  },
  {
   "cell_type": "code",
   "execution_count": null,
   "id": "d444d7ef",
   "metadata": {},
   "outputs": [],
   "source": []
  }
 ],
 "metadata": {
  "celltoolbar": "Slideshow",
  "kernelspec": {
   "display_name": "Python 3 (ipykernel)",
   "language": "python",
   "name": "python3"
  },
  "language_info": {
   "codemirror_mode": {
    "name": "ipython",
    "version": 3
   },
   "file_extension": ".py",
   "mimetype": "text/x-python",
   "name": "python",
   "nbconvert_exporter": "python",
   "pygments_lexer": "ipython3",
   "version": "3.8.10"
  }
 },
 "nbformat": 4,
 "nbformat_minor": 5
}
